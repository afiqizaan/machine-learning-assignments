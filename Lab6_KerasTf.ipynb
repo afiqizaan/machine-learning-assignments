{
  "nbformat": 4,
  "nbformat_minor": 0,
  "metadata": {
    "colab": {
      "provenance": []
    },
    "kernelspec": {
      "name": "python3",
      "display_name": "Python 3"
    },
    "language_info": {
      "name": "python"
    }
  },
  "cells": [
    {
      "cell_type": "markdown",
      "source": [
        "Keras\n",
        "\n"
      ],
      "metadata": {
        "id": "QevXn6VnLKJT"
      }
    },
    {
      "cell_type": "code",
      "source": [
        "import pandas as pd\n",
        "import tensorflow as tf\n",
        "from sklearn.model_selection import train_test_split\n",
        "from sklearn.preprocessing import OneHotEncoder\n"
      ],
      "metadata": {
        "id": "qbnnsMpJLMlE"
      },
      "execution_count": 2,
      "outputs": []
    },
    {
      "cell_type": "code",
      "source": [
        "# Load data\n",
        "df = pd.read_csv(\"Medicaldataset.csv\")\n",
        "df.head(), df.columns, df.shape"
      ],
      "metadata": {
        "colab": {
          "base_uri": "https://localhost:8080/",
          "height": 0
        },
        "id": "X5WXz8-QlZ2R",
        "outputId": "50677649-07b7-4b41-e127-90aaff64133a"
      },
      "execution_count": 9,
      "outputs": [
        {
          "output_type": "execute_result",
          "data": {
            "text/plain": [
              "(   Age  Gender  Heart rate  Systolic blood pressure  Diastolic blood pressure  \\\n",
              " 0   63       1          66                      160                        83   \n",
              " 1   20       1          94                       98                        46   \n",
              " 2   56       1          64                      160                        77   \n",
              " 3   66       1          70                      120                        55   \n",
              " 4   54       1          64                      112                        65   \n",
              " \n",
              "    Blood sugar  CK-MB  Troponin    Result  \n",
              " 0        160.0   1.80     0.012  negative  \n",
              " 1        296.0   6.75     1.060  positive  \n",
              " 2        270.0   1.99     0.003  negative  \n",
              " 3        270.0  13.87     0.122  positive  \n",
              " 4        300.0   1.08     0.003  negative  ,\n",
              " Index(['Age', 'Gender', 'Heart rate', 'Systolic blood pressure',\n",
              "        'Diastolic blood pressure', 'Blood sugar', 'CK-MB', 'Troponin',\n",
              "        'Result'],\n",
              "       dtype='object'),\n",
              " (1319, 9))"
            ]
          },
          "metadata": {},
          "execution_count": 9
        }
      ]
    },
    {
      "cell_type": "code",
      "source": [
        "# Select features and target\n",
        "X = df.drop('Result', axis=1)\n",
        "y = df[['Result']]\n",
        "\n",
        "# One-hot encode targets\n",
        "encoder = OneHotEncoder(sparse=False)\n",
        "y_onehot = encoder.fit_transform(y)\n",
        "\n",
        "# Split data\n",
        "X_train, X_test, y_train, y_test = train_test_split(X, y_onehot, test_size=0.2, random_state=42)\n"
      ],
      "metadata": {
        "colab": {
          "base_uri": "https://localhost:8080/",
          "height": 0
        },
        "id": "3M2-u5GOm769",
        "outputId": "e04e1f1a-3c3a-4222-e240-20d7eb307715"
      },
      "execution_count": 11,
      "outputs": [
        {
          "output_type": "stream",
          "name": "stderr",
          "text": [
            "/usr/local/lib/python3.10/dist-packages/sklearn/preprocessing/_encoders.py:868: FutureWarning: `sparse` was renamed to `sparse_output` in version 1.2 and will be removed in 1.4. `sparse_output` is ignored unless you leave `sparse` to its default value.\n",
            "  warnings.warn(\n"
          ]
        }
      ]
    },
    {
      "cell_type": "code",
      "source": [
        "# Build the model\n",
        "model = tf.keras.models.Sequential([\n",
        "    tf.keras.layers.Dense(10, activation='relu', input_shape=(8,)),\n",
        "    tf.keras.layers.Dense(2, activation='softmax')\n",
        "])\n",
        "\n",
        "model.compile(optimizer='adam', loss='categorical_crossentropy', metrics=['accuracy'])\n",
        "\n",
        "# Train the model\n",
        "model.fit(X_train, y_train, epochs=50, verbose=1)\n",
        "\n",
        "# Evaluation\n",
        "_, accuracy = model.evaluate(X_test, y_test)\n",
        "print(\"Accuracy: {:.2%}\".format(accuracy))"
      ],
      "metadata": {
        "colab": {
          "base_uri": "https://localhost:8080/",
          "height": 0
        },
        "id": "jPju17zFnQMj",
        "outputId": "c9e55b08-cf7d-40da-d596-aa10036377ed"
      },
      "execution_count": 13,
      "outputs": [
        {
          "output_type": "stream",
          "name": "stdout",
          "text": [
            "Epoch 1/50\n",
            "33/33 [==============================] - 1s 2ms/step - loss: 16.4810 - accuracy: 0.4863\n",
            "Epoch 2/50\n",
            "33/33 [==============================] - 0s 2ms/step - loss: 12.0875 - accuracy: 0.5318\n",
            "Epoch 3/50\n",
            "33/33 [==============================] - 0s 2ms/step - loss: 9.5596 - accuracy: 0.5270\n",
            "Epoch 4/50\n",
            "33/33 [==============================] - 0s 2ms/step - loss: 7.1521 - accuracy: 0.5156\n",
            "Epoch 5/50\n",
            "33/33 [==============================] - 0s 2ms/step - loss: 4.8368 - accuracy: 0.5336\n",
            "Epoch 6/50\n",
            "33/33 [==============================] - 0s 2ms/step - loss: 3.0624 - accuracy: 0.5735\n",
            "Epoch 7/50\n",
            "33/33 [==============================] - 0s 2ms/step - loss: 2.6265 - accuracy: 0.5991\n",
            "Epoch 8/50\n",
            "33/33 [==============================] - 0s 2ms/step - loss: 2.3999 - accuracy: 0.5810\n",
            "Epoch 9/50\n",
            "33/33 [==============================] - 0s 2ms/step - loss: 2.1689 - accuracy: 0.5848\n",
            "Epoch 10/50\n",
            "33/33 [==============================] - 0s 2ms/step - loss: 1.9519 - accuracy: 0.5953\n",
            "Epoch 11/50\n",
            "33/33 [==============================] - 0s 2ms/step - loss: 1.7496 - accuracy: 0.6190\n",
            "Epoch 12/50\n",
            "33/33 [==============================] - 0s 2ms/step - loss: 1.5753 - accuracy: 0.6000\n",
            "Epoch 13/50\n",
            "33/33 [==============================] - 0s 2ms/step - loss: 1.3987 - accuracy: 0.6104\n",
            "Epoch 14/50\n",
            "33/33 [==============================] - 0s 2ms/step - loss: 1.2113 - accuracy: 0.6114\n",
            "Epoch 15/50\n",
            "33/33 [==============================] - 0s 2ms/step - loss: 1.0595 - accuracy: 0.6322\n",
            "Epoch 16/50\n",
            "33/33 [==============================] - 0s 2ms/step - loss: 0.9743 - accuracy: 0.6389\n",
            "Epoch 17/50\n",
            "33/33 [==============================] - 0s 2ms/step - loss: 0.8086 - accuracy: 0.6834\n",
            "Epoch 18/50\n",
            "33/33 [==============================] - 0s 2ms/step - loss: 0.7466 - accuracy: 0.6882\n",
            "Epoch 19/50\n",
            "33/33 [==============================] - 0s 2ms/step - loss: 0.7259 - accuracy: 0.6910\n",
            "Epoch 20/50\n",
            "33/33 [==============================] - 0s 2ms/step - loss: 0.6999 - accuracy: 0.6986\n",
            "Epoch 21/50\n",
            "33/33 [==============================] - 0s 2ms/step - loss: 0.6601 - accuracy: 0.7081\n",
            "Epoch 22/50\n",
            "33/33 [==============================] - 0s 2ms/step - loss: 0.6447 - accuracy: 0.7081\n",
            "Epoch 23/50\n",
            "33/33 [==============================] - 0s 2ms/step - loss: 0.6236 - accuracy: 0.7100\n",
            "Epoch 24/50\n",
            "33/33 [==============================] - 0s 2ms/step - loss: 0.6278 - accuracy: 0.7289\n",
            "Epoch 25/50\n",
            "33/33 [==============================] - 0s 2ms/step - loss: 0.6092 - accuracy: 0.7213\n",
            "Epoch 26/50\n",
            "33/33 [==============================] - 0s 2ms/step - loss: 0.5767 - accuracy: 0.7526\n",
            "Epoch 27/50\n",
            "33/33 [==============================] - 0s 2ms/step - loss: 0.5829 - accuracy: 0.7204\n",
            "Epoch 28/50\n",
            "33/33 [==============================] - 0s 2ms/step - loss: 0.5968 - accuracy: 0.7118\n",
            "Epoch 29/50\n",
            "33/33 [==============================] - 0s 2ms/step - loss: 0.5777 - accuracy: 0.7137\n",
            "Epoch 30/50\n",
            "33/33 [==============================] - 0s 2ms/step - loss: 0.5469 - accuracy: 0.7564\n",
            "Epoch 31/50\n",
            "33/33 [==============================] - 0s 2ms/step - loss: 0.5593 - accuracy: 0.7156\n",
            "Epoch 32/50\n",
            "33/33 [==============================] - 0s 2ms/step - loss: 0.5320 - accuracy: 0.7308\n",
            "Epoch 33/50\n",
            "33/33 [==============================] - 0s 2ms/step - loss: 0.5275 - accuracy: 0.7242\n",
            "Epoch 34/50\n",
            "33/33 [==============================] - 0s 2ms/step - loss: 0.5237 - accuracy: 0.7232\n",
            "Epoch 35/50\n",
            "33/33 [==============================] - 0s 2ms/step - loss: 0.5015 - accuracy: 0.7469\n",
            "Epoch 36/50\n",
            "33/33 [==============================] - 0s 2ms/step - loss: 0.4859 - accuracy: 0.7706\n",
            "Epoch 37/50\n",
            "33/33 [==============================] - 0s 2ms/step - loss: 0.5089 - accuracy: 0.7289\n",
            "Epoch 38/50\n",
            "33/33 [==============================] - 0s 2ms/step - loss: 0.4867 - accuracy: 0.7573\n",
            "Epoch 39/50\n",
            "33/33 [==============================] - 0s 2ms/step - loss: 0.4810 - accuracy: 0.7659\n",
            "Epoch 40/50\n",
            "33/33 [==============================] - 0s 3ms/step - loss: 0.4924 - accuracy: 0.7469\n",
            "Epoch 41/50\n",
            "33/33 [==============================] - 0s 2ms/step - loss: 0.4852 - accuracy: 0.7507\n",
            "Epoch 42/50\n",
            "33/33 [==============================] - 0s 2ms/step - loss: 0.4688 - accuracy: 0.7735\n",
            "Epoch 43/50\n",
            "33/33 [==============================] - 0s 2ms/step - loss: 0.4708 - accuracy: 0.7611\n",
            "Epoch 44/50\n",
            "33/33 [==============================] - 0s 2ms/step - loss: 0.4816 - accuracy: 0.7460\n",
            "Epoch 45/50\n",
            "33/33 [==============================] - 0s 2ms/step - loss: 0.4843 - accuracy: 0.7441\n",
            "Epoch 46/50\n",
            "33/33 [==============================] - 0s 2ms/step - loss: 0.4704 - accuracy: 0.7545\n",
            "Epoch 47/50\n",
            "33/33 [==============================] - 0s 2ms/step - loss: 0.4706 - accuracy: 0.7403\n",
            "Epoch 48/50\n",
            "33/33 [==============================] - 0s 2ms/step - loss: 0.4608 - accuracy: 0.7621\n",
            "Epoch 49/50\n",
            "33/33 [==============================] - 0s 2ms/step - loss: 0.4620 - accuracy: 0.7621\n",
            "Epoch 50/50\n",
            "33/33 [==============================] - 0s 2ms/step - loss: 0.4735 - accuracy: 0.7479\n",
            "9/9 [==============================] - 0s 2ms/step - loss: 0.5376 - accuracy: 0.7689\n",
            "Accuracy: 76.89%\n"
          ]
        }
      ]
    },
    {
      "cell_type": "markdown",
      "source": [
        "Tensor Flow"
      ],
      "metadata": {
        "id": "B_YjjpuhLZK9"
      }
    },
    {
      "cell_type": "code",
      "source": [
        "import numpy as np\n",
        "import tensorflow as tf\n",
        "from sklearn.model_selection import train_test_split\n",
        "from sklearn.preprocessing import OneHotEncoder"
      ],
      "metadata": {
        "id": "cQ943UkpLaZ0"
      },
      "execution_count": 23,
      "outputs": []
    },
    {
      "cell_type": "code",
      "source": [
        "# Load data\n",
        "df = pd.read_csv(\"Medicaldataset.csv\")\n",
        "df.head(), df.columns, df.shape\n",
        "\n"
      ],
      "metadata": {
        "colab": {
          "base_uri": "https://localhost:8080/",
          "height": 0
        },
        "id": "JZ5lKuNTp77k",
        "outputId": "310a3965-3d78-451b-9f39-6c6424004e24"
      },
      "execution_count": 15,
      "outputs": [
        {
          "output_type": "execute_result",
          "data": {
            "text/plain": [
              "(   Age  Gender  Heart rate  Systolic blood pressure  Diastolic blood pressure  \\\n",
              " 0   63       1          66                      160                        83   \n",
              " 1   20       1          94                       98                        46   \n",
              " 2   56       1          64                      160                        77   \n",
              " 3   66       1          70                      120                        55   \n",
              " 4   54       1          64                      112                        65   \n",
              " \n",
              "    Blood sugar  CK-MB  Troponin    Result  \n",
              " 0        160.0   1.80     0.012  negative  \n",
              " 1        296.0   6.75     1.060  positive  \n",
              " 2        270.0   1.99     0.003  negative  \n",
              " 3        270.0  13.87     0.122  positive  \n",
              " 4        300.0   1.08     0.003  negative  ,\n",
              " Index(['Age', 'Gender', 'Heart rate', 'Systolic blood pressure',\n",
              "        'Diastolic blood pressure', 'Blood sugar', 'CK-MB', 'Troponin',\n",
              "        'Result'],\n",
              "       dtype='object'),\n",
              " (1319, 9))"
            ]
          },
          "metadata": {},
          "execution_count": 15
        }
      ]
    },
    {
      "cell_type": "code",
      "source": [
        "# Select features and target\n",
        "X = df.drop('Result', axis=1)\n",
        "y = df[['Result']]\n",
        "\n",
        "# One-hot encode targets\n",
        "encoder = OneHotEncoder(sparse=False)\n",
        "y_onehot = encoder.fit_transform(y)\n",
        "\n",
        "# Split data\n",
        "X_train, X_test, y_train, y_test = train_test_split(X, y_onehot, test_size=0.2, random_state=42)"
      ],
      "metadata": {
        "colab": {
          "base_uri": "https://localhost:8080/",
          "height": 0
        },
        "id": "KxcYKylmqxrO",
        "outputId": "15bbab5b-b627-4fdf-c027-1b06a171111e"
      },
      "execution_count": 19,
      "outputs": [
        {
          "output_type": "stream",
          "name": "stderr",
          "text": [
            "/usr/local/lib/python3.10/dist-packages/sklearn/preprocessing/_encoders.py:868: FutureWarning: `sparse` was renamed to `sparse_output` in version 1.2 and will be removed in 1.4. `sparse_output` is ignored unless you leave `sparse` to its default value.\n",
            "  warnings.warn(\n"
          ]
        }
      ]
    },
    {
      "cell_type": "code",
      "source": [
        "# Define the model using TensorFlow subclassing\n",
        "class MedicalModel(tf.Module):\n",
        "    def __init__(self):\n",
        "        super().__init__()\n",
        "        self.W1 = tf.Variable(tf.random.normal([8, 10], dtype=tf.float32))\n",
        "        self.b1 = tf.Variable(tf.random.normal([10], dtype=tf.float32))\n",
        "        self.W2 = tf.Variable(tf.random.normal([10, 2], dtype=tf.float32))\n",
        "        self.b2 = tf.Variable(tf.random.normal([2], dtype=tf.float32))\n",
        "\n",
        "    def __call__(self, x):\n",
        "        x = tf.matmul(x, self.W1) + self.b1\n",
        "        x = tf.nn.relu(x)\n",
        "        x = tf.matmul(x, self.W2) + self.b2\n",
        "        return tf.nn.softmax(x)\n",
        "\n",
        "model = MedicalModel()\n",
        "\n",
        "# Define the optimizer and loss function\n",
        "optimizer = tf.optimizers.Adam(learning_rate=0.01)\n",
        "loss_fn = tf.losses.CategoricalCrossentropy()\n"
      ],
      "metadata": {
        "id": "TS4VbbtjqO6s"
      },
      "execution_count": 20,
      "outputs": []
    },
    {
      "cell_type": "code",
      "source": [
        "# Training loop\n",
        "def train_step(inputs, labels):\n",
        "    with tf.GradientTape() as tape:\n",
        "        predictions = model(inputs)\n",
        "        loss = loss_fn(labels, predictions)\n",
        "    gradients = tape.gradient(loss, [model.W1, model.b1, model.W2, model.b2])\n",
        "    optimizer.apply_gradients(zip(gradients, [model.W1, model.b1, model.W2, model.b2]))\n",
        "    return loss\n",
        "\n",
        "# Training loop with data type check\n",
        "for epoch in range(50):\n",
        "    X_train_batch = tf.cast(X_train, tf.float32)  # Casting each time in case it's necessary\n",
        "    y_train_batch = tf.cast(y_train, tf.float32)\n",
        "    loss = train_step(X_train_batch, y_train_batch)\n",
        "    if epoch % 10 == 0:\n",
        "        print(\"Epoch\", epoch, \"Loss\", loss.numpy())\n",
        "\n",
        "# Evaluate the model\n",
        "def evaluate(inputs, labels):\n",
        "    predictions = model(inputs)  # Model predictions\n",
        "    correct_predictions = tf.equal(tf.argmax(predictions, 1), tf.argmax(labels, 1))\n",
        "    accuracy = tf.reduce_mean(tf.cast(correct_predictions, tf.float32))\n",
        "    return accuracy.numpy()\n",
        "\n",
        "# Evaluate the model with data type check\n",
        "accuracy = evaluate(tf.cast(X_test, tf.float32), tf.cast(y_test, tf.float32))\n",
        "print(\"Accuracy:\", accuracy)\n"
      ],
      "metadata": {
        "colab": {
          "base_uri": "https://localhost:8080/",
          "height": 0
        },
        "id": "ppDw9-PTqvcJ",
        "outputId": "d0ac06e2-bc2d-48f2-fb8c-b76c14926a1c"
      },
      "execution_count": 26,
      "outputs": [
        {
          "output_type": "stream",
          "name": "stdout",
          "text": [
            "Epoch 0 Loss 3.86084\n",
            "Epoch 10 Loss 3.7731366\n",
            "Epoch 20 Loss 3.6238205\n",
            "Epoch 30 Loss 3.3570788\n",
            "Epoch 40 Loss 2.9212084\n",
            "Accuracy: 0.70075756\n"
          ]
        }
      ]
    }
  ]
}